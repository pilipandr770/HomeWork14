{
  "nbformat": 4,
  "nbformat_minor": 0,
  "metadata": {
    "colab": {
      "provenance": [],
      "authorship_tag": "ABX9TyMraaGnNX8ZwflmtUdjOXQM",
      "include_colab_link": true
    },
    "kernelspec": {
      "name": "python3",
      "display_name": "Python 3"
    },
    "language_info": {
      "name": "python"
    }
  },
  "cells": [
    {
      "cell_type": "markdown",
      "metadata": {
        "id": "view-in-github",
        "colab_type": "text"
      },
      "source": [
        "<a href=\"https://colab.research.google.com/github/pilipandr770/HomeWork14/blob/main/HomeWork14.ipynb\" target=\"_parent\"><img src=\"https://colab.research.google.com/assets/colab-badge.svg\" alt=\"Open In Colab\"/></a>"
      ]
    },
    {
      "cell_type": "code",
      "execution_count": 1,
      "metadata": {
        "colab": {
          "base_uri": "https://localhost:8080/"
        },
        "id": "LJe2XymYUeu8",
        "outputId": "c43543c9-fcd0-4510-c452-f4dbb3ea48cd"
      },
      "outputs": [
        {
          "output_type": "stream",
          "name": "stdout",
          "text": [
            "Downloading data from https://storage.googleapis.com/tensorflow/tf-keras-datasets/imdb.npz\n",
            "\u001b[1m17464789/17464789\u001b[0m \u001b[32m━━━━━━━━━━━━━━━━━━━━\u001b[0m\u001b[37m\u001b[0m \u001b[1m0s\u001b[0m 0us/step\n",
            "Форма навчальних даних: (25000, 500)\n",
            "Форма тестових даних: (25000, 500)\n"
          ]
        }
      ],
      "source": [
        "# imdb_rnn_classification.py\n",
        "\n",
        "import numpy as np\n",
        "from tensorflow.keras.datasets import imdb\n",
        "from tensorflow.keras.preprocessing.sequence import pad_sequences\n",
        "from tensorflow.keras.models import Sequential\n",
        "from tensorflow.keras.layers import Embedding, SimpleRNN, LSTM, Dense, Bidirectional\n",
        "from tensorflow.keras.optimizers import Adam\n",
        "\n",
        "# Завантаження даних IMDb\n",
        "max_features = 10000  # Кількість слів, які будемо враховувати\n",
        "maxlen = 500  # Максимальна довжина рецензії (в кількості слів)\n",
        "\n",
        "(x_train, y_train), (x_test, y_test) = imdb.load_data(num_words=max_features)\n",
        "\n",
        "# Заповнення послідовностей до однакової довжини\n",
        "x_train = pad_sequences(x_train, maxlen=maxlen)\n",
        "x_test = pad_sequences(x_test, maxlen=maxlen)\n",
        "\n",
        "print(f\"Форма навчальних даних: {x_train.shape}\")\n",
        "print(f\"Форма тестових даних: {x_test.shape}\")\n"
      ]
    },
    {
      "cell_type": "code",
      "source": [
        "# rnn_models.py\n",
        "\n",
        "def build_simple_rnn_model():\n",
        "    model = Sequential()\n",
        "    model.add(Embedding(max_features, 128, input_length=maxlen))\n",
        "    model.add(SimpleRNN(32))\n",
        "    model.add(Dense(1, activation='sigmoid'))\n",
        "    return model\n",
        "\n",
        "def build_lstm_model():\n",
        "    model = Sequential()\n",
        "    model.add(Embedding(max_features, 128, input_length=maxlen))\n",
        "    model.add(LSTM(32))\n",
        "    model.add(Dense(1, activation='sigmoid'))\n",
        "    return model\n",
        "\n",
        "def build_bidirectional_lstm_model():\n",
        "    model = Sequential()\n",
        "    model.add(Embedding(max_features, 128, input_length=maxlen))\n",
        "    model.add(Bidirectional(LSTM(32)))\n",
        "    model.add(Dense(1, activation='sigmoid'))\n",
        "    return model\n",
        "\n",
        "def build_deep_lstm_model():\n",
        "    model = Sequential()\n",
        "    model.add(Embedding(max_features, 128, input_length=maxlen))\n",
        "    model.add(LSTM(32, return_sequences=True))\n",
        "    model.add(LSTM(32))\n",
        "    model.add(Dense(1, activation='sigmoid'))\n",
        "    return model\n"
      ],
      "metadata": {
        "id": "crmXPPtvU0cS"
      },
      "execution_count": 2,
      "outputs": []
    },
    {
      "cell_type": "code",
      "source": [
        "# train_and_evaluate.py\n",
        "\n",
        "def train_and_evaluate_model(model, x_train, y_train, x_test, y_test, epochs=5, batch_size=32):\n",
        "    model.compile(optimizer=Adam(), loss='binary_crossentropy', metrics=['accuracy'])\n",
        "    model.fit(x_train, y_train, epochs=epochs, batch_size=batch_size, validation_split=0.2)\n",
        "    test_loss, test_acc = model.evaluate(x_test, y_test)\n",
        "    return test_acc\n",
        "\n",
        "# Тренування моделей\n",
        "simple_rnn_model = build_simple_rnn_model()\n",
        "lstm_model = build_lstm_model()\n",
        "bidirectional_lstm_model = build_bidirectional_lstm_model()\n",
        "deep_lstm_model = build_deep_lstm_model()\n",
        "\n",
        "print(\"Simple RNN:\")\n",
        "simple_rnn_acc = train_and_evaluate_model(simple_rnn_model, x_train, y_train, x_test, y_test)\n",
        "\n",
        "print(\"LSTM:\")\n",
        "lstm_acc = train_and_evaluate_model(lstm_model, x_train, y_train, x_test, y_test)\n",
        "\n",
        "print(\"Bidirectional LSTM:\")\n",
        "bidirectional_lstm_acc = train_and_evaluate_model(bidirectional_lstm_model, x_train, y_train, x_test, y_test)\n",
        "\n",
        "print(\"Deep LSTM:\")\n",
        "deep_lstm_acc = train_and_evaluate_model(deep_lstm_model, x_train, y_train, x_test, y_test)\n",
        "\n",
        "# Порівняння результатів\n",
        "print(f\"Simple RNN accuracy: {simple_rnn_acc}\")\n",
        "print(f\"LSTM accuracy: {lstm_acc}\")\n",
        "print(f\"Bidirectional LSTM accuracy: {bidirectional_lstm_acc}\")\n",
        "print(f\"Deep LSTM accuracy: {deep_lstm_acc}\")\n"
      ],
      "metadata": {
        "colab": {
          "base_uri": "https://localhost:8080/"
        },
        "id": "7u3l8y6GU_1y",
        "outputId": "00ef51b1-cd94-4599-b56f-9378cf847411"
      },
      "execution_count": 3,
      "outputs": [
        {
          "metadata": {
            "tags": null
          },
          "name": "stderr",
          "output_type": "stream",
          "text": [
            "/usr/local/lib/python3.10/dist-packages/keras/src/layers/core/embedding.py:90: UserWarning: Argument `input_length` is deprecated. Just remove it.\n",
            "  warnings.warn(\n"
          ]
        },
        {
          "output_type": "stream",
          "name": "stdout",
          "text": [
            "Simple RNN:\n",
            "Epoch 1/5\n",
            "\u001b[1m625/625\u001b[0m \u001b[32m━━━━━━━━━━━━━━━━━━━━\u001b[0m\u001b[37m\u001b[0m \u001b[1m109s\u001b[0m 172ms/step - accuracy: 0.6272 - loss: 0.6332 - val_accuracy: 0.5482 - val_loss: 0.7184\n",
            "Epoch 2/5\n",
            "\u001b[1m625/625\u001b[0m \u001b[32m━━━━━━━━━━━━━━━━━━━━\u001b[0m\u001b[37m\u001b[0m \u001b[1m140s\u001b[0m 169ms/step - accuracy: 0.6791 - loss: 0.5903 - val_accuracy: 0.7360 - val_loss: 0.5515\n",
            "Epoch 3/5\n",
            "\u001b[1m625/625\u001b[0m \u001b[32m━━━━━━━━━━━━━━━━━━━━\u001b[0m\u001b[37m\u001b[0m \u001b[1m139s\u001b[0m 165ms/step - accuracy: 0.7924 - loss: 0.4495 - val_accuracy: 0.7438 - val_loss: 0.5369\n",
            "Epoch 4/5\n",
            "\u001b[1m625/625\u001b[0m \u001b[32m━━━━━━━━━━━━━━━━━━━━\u001b[0m\u001b[37m\u001b[0m \u001b[1m139s\u001b[0m 160ms/step - accuracy: 0.8837 - loss: 0.2853 - val_accuracy: 0.7750 - val_loss: 0.5239\n",
            "Epoch 5/5\n",
            "\u001b[1m625/625\u001b[0m \u001b[32m━━━━━━━━━━━━━━━━━━━━\u001b[0m\u001b[37m\u001b[0m \u001b[1m143s\u001b[0m 162ms/step - accuracy: 0.9412 - loss: 0.1665 - val_accuracy: 0.7448 - val_loss: 0.6367\n",
            "\u001b[1m782/782\u001b[0m \u001b[32m━━━━━━━━━━━━━━━━━━━━\u001b[0m\u001b[37m\u001b[0m \u001b[1m28s\u001b[0m 36ms/step - accuracy: 0.7343 - loss: 0.6508\n",
            "LSTM:\n",
            "Epoch 1/5\n",
            "\u001b[1m625/625\u001b[0m \u001b[32m━━━━━━━━━━━━━━━━━━━━\u001b[0m\u001b[37m\u001b[0m \u001b[1m162s\u001b[0m 256ms/step - accuracy: 0.7345 - loss: 0.5203 - val_accuracy: 0.8532 - val_loss: 0.3478\n",
            "Epoch 2/5\n",
            "\u001b[1m625/625\u001b[0m \u001b[32m━━━━━━━━━━━━━━━━━━━━\u001b[0m\u001b[37m\u001b[0m \u001b[1m204s\u001b[0m 259ms/step - accuracy: 0.8891 - loss: 0.2781 - val_accuracy: 0.8714 - val_loss: 0.3185\n",
            "Epoch 3/5\n",
            "\u001b[1m625/625\u001b[0m \u001b[32m━━━━━━━━━━━━━━━━━━━━\u001b[0m\u001b[37m\u001b[0m \u001b[1m206s\u001b[0m 266ms/step - accuracy: 0.9166 - loss: 0.2182 - val_accuracy: 0.8658 - val_loss: 0.3216\n",
            "Epoch 4/5\n",
            "\u001b[1m625/625\u001b[0m \u001b[32m━━━━━━━━━━━━━━━━━━━━\u001b[0m\u001b[37m\u001b[0m \u001b[1m194s\u001b[0m 253ms/step - accuracy: 0.9464 - loss: 0.1418 - val_accuracy: 0.8686 - val_loss: 0.3570\n",
            "Epoch 5/5\n",
            "\u001b[1m625/625\u001b[0m \u001b[32m━━━━━━━━━━━━━━━━━━━━\u001b[0m\u001b[37m\u001b[0m \u001b[1m204s\u001b[0m 256ms/step - accuracy: 0.9668 - loss: 0.0994 - val_accuracy: 0.8588 - val_loss: 0.4034\n",
            "\u001b[1m782/782\u001b[0m \u001b[32m━━━━━━━━━━━━━━━━━━━━\u001b[0m\u001b[37m\u001b[0m \u001b[1m50s\u001b[0m 64ms/step - accuracy: 0.8538 - loss: 0.4190\n",
            "Bidirectional LSTM:\n",
            "Epoch 1/5\n",
            "\u001b[1m625/625\u001b[0m \u001b[32m━━━━━━━━━━━━━━━━━━━━\u001b[0m\u001b[37m\u001b[0m \u001b[1m348s\u001b[0m 549ms/step - accuracy: 0.7161 - loss: 0.5286 - val_accuracy: 0.8654 - val_loss: 0.3297\n",
            "Epoch 2/5\n",
            "\u001b[1m625/625\u001b[0m \u001b[32m━━━━━━━━━━━━━━━━━━━━\u001b[0m\u001b[37m\u001b[0m \u001b[1m335s\u001b[0m 474ms/step - accuracy: 0.9030 - loss: 0.2553 - val_accuracy: 0.8016 - val_loss: 0.4181\n",
            "Epoch 3/5\n",
            "\u001b[1m625/625\u001b[0m \u001b[32m━━━━━━━━━━━━━━━━━━━━\u001b[0m\u001b[37m\u001b[0m \u001b[1m313s\u001b[0m 460ms/step - accuracy: 0.9179 - loss: 0.2203 - val_accuracy: 0.8854 - val_loss: 0.3368\n",
            "Epoch 4/5\n",
            "\u001b[1m625/625\u001b[0m \u001b[32m━━━━━━━━━━━━━━━━━━━━\u001b[0m\u001b[37m\u001b[0m \u001b[1m326s\u001b[0m 466ms/step - accuracy: 0.9551 - loss: 0.1275 - val_accuracy: 0.8656 - val_loss: 0.3798\n",
            "Epoch 5/5\n",
            "\u001b[1m625/625\u001b[0m \u001b[32m━━━━━━━━━━━━━━━━━━━━\u001b[0m\u001b[37m\u001b[0m \u001b[1m329s\u001b[0m 478ms/step - accuracy: 0.9642 - loss: 0.1033 - val_accuracy: 0.8758 - val_loss: 0.4327\n",
            "\u001b[1m782/782\u001b[0m \u001b[32m━━━━━━━━━━━━━━━━━━━━\u001b[0m\u001b[37m\u001b[0m \u001b[1m82s\u001b[0m 105ms/step - accuracy: 0.8660 - loss: 0.4610\n",
            "Deep LSTM:\n",
            "Epoch 1/5\n",
            "\u001b[1m625/625\u001b[0m \u001b[32m━━━━━━━━━━━━━━━━━━━━\u001b[0m\u001b[37m\u001b[0m \u001b[1m271s\u001b[0m 428ms/step - accuracy: 0.7429 - loss: 0.5004 - val_accuracy: 0.8668 - val_loss: 0.3335\n",
            "Epoch 2/5\n",
            "\u001b[1m625/625\u001b[0m \u001b[32m━━━━━━━━━━━━━━━━━━━━\u001b[0m\u001b[37m\u001b[0m \u001b[1m315s\u001b[0m 417ms/step - accuracy: 0.9020 - loss: 0.2557 - val_accuracy: 0.8760 - val_loss: 0.3210\n",
            "Epoch 3/5\n",
            "\u001b[1m625/625\u001b[0m \u001b[32m━━━━━━━━━━━━━━━━━━━━\u001b[0m\u001b[37m\u001b[0m \u001b[1m267s\u001b[0m 425ms/step - accuracy: 0.9376 - loss: 0.1727 - val_accuracy: 0.8800 - val_loss: 0.3263\n",
            "Epoch 4/5\n",
            "\u001b[1m625/625\u001b[0m \u001b[32m━━━━━━━━━━━━━━━━━━━━\u001b[0m\u001b[37m\u001b[0m \u001b[1m320s\u001b[0m 421ms/step - accuracy: 0.9586 - loss: 0.1168 - val_accuracy: 0.8684 - val_loss: 0.3840\n",
            "Epoch 5/5\n",
            "\u001b[1m625/625\u001b[0m \u001b[32m━━━━━━━━━━━━━━━━━━━━\u001b[0m\u001b[37m\u001b[0m \u001b[1m272s\u001b[0m 435ms/step - accuracy: 0.9758 - loss: 0.0723 - val_accuracy: 0.8676 - val_loss: 0.4011\n",
            "\u001b[1m782/782\u001b[0m \u001b[32m━━━━━━━━━━━━━━━━━━━━\u001b[0m\u001b[37m\u001b[0m \u001b[1m89s\u001b[0m 113ms/step - accuracy: 0.8601 - loss: 0.4256\n",
            "Simple RNN accuracy: 0.7430800199508667\n",
            "LSTM accuracy: 0.8545600175857544\n",
            "Bidirectional LSTM accuracy: 0.8654000163078308\n",
            "Deep LSTM accuracy: 0.8606399893760681\n"
          ]
        }
      ]
    }
  ]
}
